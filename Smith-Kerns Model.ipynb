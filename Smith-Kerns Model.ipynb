{
 "cells": [
  {
   "cell_type": "markdown",
   "metadata": {
    "collapsed": true
   },
   "source": [
    "# Dollar Spot Model Forecaster\n",
    "## Using the Smith-Kerns Dollar Spot Prediction Model and Forecasted Weather Data to predict occurence of Dollar Spot.\n",
    "\n",
    "### The Dollar Spot Model is an equation developed by Dr. Damon Smith and Dr. Jim Kerns and peer-reviewed and validated through PLoS One (http://journals.plos.org/plosone/article?id=10.1371/journal.pone.0194216)"
   ]
  },
  {
   "cell_type": "markdown",
   "metadata": {},
   "source": [
    "#### The equation for the model is:\n",
    "Logit (μ) = -11.4041 + (0.0894 * MeanRH) + (0.1932 * MeanAT)\n",
    "\n",
    "where: \n",
    " \n",
    "MeanRH = average relative humidity over a 5 day period\n",
    "\n",
    "MeanAT = average air temperature (in Celsius) over a 5 day period\n",
    "\n",
    "#### The logit (μ) is then inserted into the following equation to give the probability\n",
    "\n",
    "$$ P = e^{logit(μ)} / (1 + e^{logit(μ)} ) * 100 $$\n",
    "\n",
    "where:\n",
    "\n",
    "P = Probability of a dollar spot epidemic\n",
    "\n",
    "e = Euler's number (~2.718)"
   ]
  },
  {
   "cell_type": "markdown",
   "metadata": {},
   "source": [
    "##### Import relevant libraries and tools"
   ]
  },
  {
   "cell_type": "code",
   "execution_count": 65,
   "metadata": {
    "collapsed": true
   },
   "outputs": [],
   "source": [
    "import csv\n",
    "import requests\n",
    "import json\n",
    "import math\n",
    "from IPython.core.display import display, HTML"
   ]
  },
  {
   "cell_type": "markdown",
   "metadata": {},
   "source": [
    "##### Import and assign API keys"
   ]
  },
  {
   "cell_type": "code",
   "execution_count": 78,
   "metadata": {
    "collapsed": true
   },
   "outputs": [],
   "source": [
    "keys = []"
   ]
  },
  {
   "cell_type": "code",
   "execution_count": 110,
   "metadata": {
    "collapsed": true
   },
   "outputs": [],
   "source": [
    "with open('keys.csv') as key:\n",
    "    readCSV = csv.reader(key, delimiter=',')    \n",
    "    for row in readCSV:\n",
    "        keys.append(row)"
   ]
  },
  {
   "cell_type": "code",
   "execution_count": 80,
   "metadata": {
    "collapsed": true
   },
   "outputs": [],
   "source": [
    "dk_key = keys[0]\n",
    "geo_key = keys[1]"
   ]
  },
  {
   "cell_type": "markdown",
   "metadata": {},
   "source": [
    "##### Enter zipcode to determine lat & long"
   ]
  },
  {
   "cell_type": "code",
   "execution_count": 81,
   "metadata": {},
   "outputs": [
    {
     "name": "stdout",
     "output_type": "stream",
     "text": [
      "32789\n"
     ]
    }
   ],
   "source": [
    "zip_code = input()"
   ]
  },
  {
   "cell_type": "markdown",
   "metadata": {},
   "source": [
    "##### Use Google Geocode API to determine approximate co-ords"
   ]
  },
  {
   "cell_type": "code",
   "execution_count": 82,
   "metadata": {
    "collapsed": true
   },
   "outputs": [],
   "source": [
    "geo_call = \"https://maps.googleapis.com/maps/api/geocode/json?address=\" + str(zip_code) + \"&key=\" + str(geo_key[0])"
   ]
  },
  {
   "cell_type": "code",
   "execution_count": 83,
   "metadata": {},
   "outputs": [],
   "source": [
    "geo_resp = requests.get(geo_call)\n",
    "geo_data = geo_resp.json()\n",
    "lat = geo_data['results'][0]['geometry']['location']['lat']\n",
    "long = geo_data['results'][0]['geometry']['location']['lng']"
   ]
  },
  {
   "cell_type": "markdown",
   "metadata": {},
   "source": [
    "##### Use Dark Sky API to determine forecast"
   ]
  },
  {
   "cell_type": "code",
   "execution_count": 84,
   "metadata": {
    "collapsed": true
   },
   "outputs": [],
   "source": [
    "dk_url = \"https://api.darksky.net/forecast/\""
   ]
  },
  {
   "cell_type": "code",
   "execution_count": 85,
   "metadata": {
    "collapsed": true
   },
   "outputs": [],
   "source": [
    "exclude = \"?exclude=currently,minutely,hourly,alerts\""
   ]
  },
  {
   "cell_type": "code",
   "execution_count": 86,
   "metadata": {
    "collapsed": true
   },
   "outputs": [],
   "source": [
    "units = \"&units=si\""
   ]
  },
  {
   "cell_type": "code",
   "execution_count": 87,
   "metadata": {},
   "outputs": [],
   "source": [
    "dk_call = dk_url + dk_key[0] + \"/\" + str(lat) + \",\" + str(long) + exclude + units"
   ]
  },
  {
   "cell_type": "code",
   "execution_count": 112,
   "metadata": {
    "scrolled": true
   },
   "outputs": [],
   "source": [
    "dk_resp = requests.get(dk_call)\n",
    "dk_data = dk_resp.json()\n",
    "h_temps = []\n",
    "l_temps = []\n",
    "avg_temps = []\n",
    "hums = []"
   ]
  },
  {
   "cell_type": "markdown",
   "metadata": {},
   "source": [
    "##### Get high temps, low temps, and humidity for every day in the forecast"
   ]
  },
  {
   "cell_type": "code",
   "execution_count": 90,
   "metadata": {},
   "outputs": [],
   "source": [
    "for x in dk_data['daily']['data']:\n",
    "    h_temps.append(x['temperatureHigh'])\n",
    "    l_temps.append(x['temperatureLow'])\n",
    "    hums.append(x['humidity'])"
   ]
  },
  {
   "cell_type": "markdown",
   "metadata": {},
   "source": [
    "##### Combine the high temps and low temps to get a list of average temps"
   ]
  },
  {
   "cell_type": "code",
   "execution_count": 91,
   "metadata": {},
   "outputs": [
    {
     "data": {
      "text/plain": [
       "[24.479999999999997,\n",
       " 25.645,\n",
       " 24.72,\n",
       " 24.215,\n",
       " 24.835,\n",
       " 26.924999999999997,\n",
       " 27.744999999999997,\n",
       " 25.465000000000003]"
      ]
     },
     "execution_count": 91,
     "metadata": {},
     "output_type": "execute_result"
    }
   ],
   "source": [
    "for i in range(0, len(h_temps)):\n",
    "    avg_temps.append((h_temps[i] + l_temps[i])/2)\n",
    "    \n",
    "avg_temps"
   ]
  },
  {
   "cell_type": "markdown",
   "metadata": {},
   "source": [
    "##### Get average temp & humidity forecast for the upcoming 5 days"
   ]
  },
  {
   "cell_type": "code",
   "execution_count": 104,
   "metadata": {},
   "outputs": [
    {
     "name": "stdout",
     "output_type": "stream",
     "text": [
      "0.744\n",
      "24.779000000000003\n"
     ]
    }
   ],
   "source": [
    "avg_hum = sum(hums[:5])/len(hums[:5])\n",
    "avg_temp = sum(avg_temps[:5])/len(avg_temps[:5])\n",
    "print(avg_hum)\n",
    "print(avg_temp)"
   ]
  },
  {
   "cell_type": "markdown",
   "metadata": {},
   "source": [
    "##### Calculate the logit(μ)"
   ]
  },
  {
   "cell_type": "code",
   "execution_count": 105,
   "metadata": {
    "collapsed": true
   },
   "outputs": [],
   "source": [
    "logit_mu = -11.4041 + (0.0894 * avg_hum) + (0.1932 * avg_temp)"
   ]
  },
  {
   "cell_type": "code",
   "execution_count": 106,
   "metadata": {},
   "outputs": [
    {
     "data": {
      "text/plain": [
       "-6.550283599999998"
      ]
     },
     "execution_count": 106,
     "metadata": {},
     "output_type": "execute_result"
    }
   ],
   "source": [
    "logit_mu"
   ]
  },
  {
   "cell_type": "markdown",
   "metadata": {},
   "source": [
    "##### Calculate the probability"
   ]
  },
  {
   "cell_type": "code",
   "execution_count": 109,
   "metadata": {},
   "outputs": [
    {
     "name": "stdout",
     "output_type": "stream",
     "text": [
      "Probability: 0.14%\n"
     ]
    }
   ],
   "source": [
    "if avg_temp <= 10:\n",
    "    print(\"Probability: 0%, average temperature too low\")\n",
    "elif avg_temp >= 35:\n",
    "    print(\"Probability: 0%, average temperature too high\")\n",
    "else:\n",
    "    P = (math.exp(logit_mu) / (1 + math.exp(logit_mu))) * 100\n",
    "    P = round(P, 2)\n",
    "    print(\"Probability: \" + str(P) + \"%\")"
   ]
  },
  {
   "cell_type": "code",
   "execution_count": 18,
   "metadata": {},
   "outputs": [
    {
     "data": {
      "text/html": [
       "<h1><a href src=\"https://darksky.net/poweredby/\">Powered by Dark Sky</a></h1>"
      ],
      "text/plain": [
       "<IPython.core.display.HTML object>"
      ]
     },
     "metadata": {},
     "output_type": "display_data"
    }
   ],
   "source": [
    "display(HTML('<h1><a href src=\"https://darksky.net/poweredby/\">Powered by Dark Sky</a></h1>'))"
   ]
  }
 ],
 "metadata": {
  "kernelspec": {
   "display_name": "Python 3",
   "language": "python",
   "name": "python3"
  },
  "language_info": {
   "codemirror_mode": {
    "name": "ipython",
    "version": 3
   },
   "file_extension": ".py",
   "mimetype": "text/x-python",
   "name": "python",
   "nbconvert_exporter": "python",
   "pygments_lexer": "ipython3",
   "version": "3.6.3"
  }
 },
 "nbformat": 4,
 "nbformat_minor": 2
}
